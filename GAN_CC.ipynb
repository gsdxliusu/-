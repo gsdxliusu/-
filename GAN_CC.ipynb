{
  "cells": [
    {
      "cell_type": "markdown",
      "metadata": {
        "id": "view-in-github",
        "colab_type": "text"
      },
      "source": [
        "<a href=\"https://colab.research.google.com/github/gsdxliusu/fashion-mnist/blob/main/GAN_CC.ipynb\" target=\"_parent\"><img src=\"https://colab.research.google.com/assets/colab-badge.svg\" alt=\"Open In Colab\"/></a>"
      ]
    },
    {
      "cell_type": "code",
      "execution_count": null,
      "metadata": {
        "colab": {
          "base_uri": "https://localhost:8080/"
        },
        "id": "62oaS03XX1cN",
        "outputId": "bb1f478f-ab0f-4771-a3bb-f3c65fcbfb25"
      },
      "outputs": [
        {
          "output_type": "stream",
          "name": "stdout",
          "text": [
            "TF version: 2.8.0\n",
            "GPU is available\n"
          ]
        }
      ],
      "source": [
        "import tensorflow as tf\n",
        "print(\"TF version:\",tf.__version__)\n",
        "#算力要求比较高\n",
        "print(\"GPU is\",\"available\" if tf.config.list_physical_devices('GPU') else \"NOT AVAILABLE\")"
      ]
    },
    {
      "cell_type": "code",
      "execution_count": null,
      "metadata": {
        "id": "eXFIHj1SX6kb"
      },
      "outputs": [],
      "source": [
        "import matplotlib.pyplot as plt\n",
        "import numpy as np\n",
        "import os\n",
        "import PIL\n",
        "from tensorflow.keras import layers\n",
        "import time\n",
        "import glob\n",
        " \n",
        "from IPython import display"
      ]
    },
    {
      "cell_type": "code",
      "execution_count": null,
      "metadata": {
        "id": "p3baeg5WX6nY"
      },
      "outputs": [],
      "source": [
        "fashion_mnist = tf.keras.datasets.fashion_mnist #已经集成数据集\n",
        "(train_images,train_labels),(test_images,test_labels) = fashion_mnist.load_data()"
      ]
    },
    {
      "cell_type": "code",
      "execution_count": null,
      "metadata": {
        "id": "R9fbgtmaX6p-"
      },
      "outputs": [],
      "source": [
        "train_images = train_images.reshape(train_images.shape[0],28,28,1).astype('float32')\n",
        "train_images = (train_images - 127.5)/127.5 #将图片标准化到[-1,1]区间内 \n",
        "\n",
        "    "
      ]
    },
    {
      "cell_type": "code",
      "execution_count": null,
      "metadata": {
        "id": "mS5_SsHnX6sr"
      },
      "outputs": [],
      "source": [
        "buffer_size = 60000\n",
        "batch_size = 256"
      ]
    },
    {
      "cell_type": "code",
      "execution_count": null,
      "metadata": {
        "id": "sgkZ1uCuX6vK"
      },
      "outputs": [],
      "source": [
        "#数据打散和批次化\n",
        "train_dataset = tf.data.Dataset.from_tensor_slices(train_images).shuffle(buffer_size).batch(batch_size)\n"
      ]
    },
    {
      "cell_type": "code",
      "execution_count": null,
      "metadata": {
        "id": "12X5QSBjX6yQ"
      },
      "outputs": [],
      "source": [
        "def make_generator_model():#构建生成器\n",
        "    model = tf.keras.Sequential()\n",
        "    #全连接层\n",
        "    model.add(layers.Dense(7*7*256,use_bias = False,input_shape = (100,))) #input_shape 100维的噪音数据，dense全连接层的神经元个数\n",
        "    model.add(layers.BatchNormalization())#标准化\n",
        "    model.add(layers.LeakyReLU())#激活函数 \n",
        "    \n",
        "    \n",
        "    model.add(layers.Reshape((7,7,256)))\n",
        "    assert model.output_shape == (None,7,7,256)# 做reshape\n",
        "    #上采样层\n",
        "    model.add(layers.Conv2DTranspose(128,(5,5),strides = (1,1),padding = 'same',use_bias = False))#反卷积，卷积核，通道数，步长，padding保持图像大小一致，偏置项\n",
        "    assert model.output_shape == (None,7,7,128)\n",
        "    model.add(layers.BatchNormalization())#标准化\n",
        "    model.add(layers.LeakyReLU())#激活\n",
        "    \n",
        "\n",
        "    model.add(layers.Conv2DTranspose(64,(5,5),strides = (2,2),padding = 'same',use_bias = False))#步长改变\n",
        "    assert model.output_shape == (None,14,14,64)#输出尺寸改变\n",
        "    model.add(layers.BatchNormalization())\n",
        "    model.add(layers.LeakyReLU())\n",
        "    \n",
        "    model.add(layers.Conv2DTranspose(1,(5,5),strides = (2,2),padding = 'same',use_bias = False,activation = 'tanh'))\n",
        "    assert model.output_shape == (None,28,28,1)\n",
        "    \n",
        "    return model"
      ]
    },
    {
      "cell_type": "code",
      "execution_count": null,
      "metadata": {
        "colab": {
          "base_uri": "https://localhost:8080/"
        },
        "id": "y8am1EuFX60-",
        "outputId": "89ed96e5-d094-4ecf-a6aa-e3890b00109a"
      },
      "outputs": [
        {
          "output_type": "stream",
          "name": "stdout",
          "text": [
            "Model: \"sequential_46\"\n",
            "_________________________________________________________________\n",
            " Layer (type)                Output Shape              Param #   \n",
            "=================================================================\n",
            " dense_46 (Dense)            (None, 12544)             1254400   \n",
            "                                                                 \n",
            " batch_normalization_69 (Bat  (None, 12544)            50176     \n",
            " chNormalization)                                                \n",
            "                                                                 \n",
            " leaky_re_lu_115 (LeakyReLU)  (None, 12544)            0         \n",
            "                                                                 \n",
            " reshape_23 (Reshape)        (None, 7, 7, 256)         0         \n",
            "                                                                 \n",
            " conv2d_transpose_69 (Conv2D  (None, 7, 7, 128)        819200    \n",
            " Transpose)                                                      \n",
            "                                                                 \n",
            " batch_normalization_70 (Bat  (None, 7, 7, 128)        512       \n",
            " chNormalization)                                                \n",
            "                                                                 \n",
            " leaky_re_lu_116 (LeakyReLU)  (None, 7, 7, 128)        0         \n",
            "                                                                 \n",
            " conv2d_transpose_70 (Conv2D  (None, 14, 14, 64)       204800    \n",
            " Transpose)                                                      \n",
            "                                                                 \n",
            " batch_normalization_71 (Bat  (None, 14, 14, 64)       256       \n",
            " chNormalization)                                                \n",
            "                                                                 \n",
            " leaky_re_lu_117 (LeakyReLU)  (None, 14, 14, 64)       0         \n",
            "                                                                 \n",
            " conv2d_transpose_71 (Conv2D  (None, 28, 28, 1)        1600      \n",
            " Transpose)                                                      \n",
            "                                                                 \n",
            "=================================================================\n",
            "Total params: 2,330,944\n",
            "Trainable params: 2,305,472\n",
            "Non-trainable params: 25,472\n",
            "_________________________________________________________________\n"
          ]
        }
      ],
      "source": [
        "generator = make_generator_model()\n",
        "generator.summary()"
      ]
    },
    {
      "cell_type": "code",
      "execution_count": null,
      "metadata": {
        "colab": {
          "base_uri": "https://localhost:8080/",
          "height": 265
        },
        "id": "QNEecm8kX63V",
        "outputId": "7e452a0e-9bb3-463e-bed6-51a75154cf6a"
      },
      "outputs": [
        {
          "output_type": "display_data",
          "data": {
            "text/plain": [
              "<Figure size 432x288 with 1 Axes>"
            ],
            "image/png": "[encoded data removed]"
          },
          "metadata": {
            "needs_background": "light"
          }
        }
      ],
      "source": [
        "noise = tf.random.normal([1,100])\n",
        "generated_image = generator(noise,training = False)\n",
        "\n",
        "plt.imshow(generated_image[0,:,:,0],cmap = 'gray')\n",
        "plt.show()"
      ]
    },
    {
      "cell_type": "code",
      "execution_count": null,
      "metadata": {
        "id": "zGh8HkvdX65l"
      },
      "outputs": [],
      "source": [
        "def make_discriminator_model():#构建判别器\n",
        "    model = tf.keras.Sequential()\n",
        "    model.add(layers.Conv2D(64,(5,5),strides = (2,2),padding = 'same',input_shape = [28,28,1]))\n",
        "    \n",
        "    model.add(layers.LeakyReLU())\n",
        "    model.add(layers.Dropout(0.3))\n",
        "    \n",
        "    model.add(layers.Conv2D(128,(5,5),strides = (2,2),padding = 'same'))\n",
        "    model.add(layers.LeakyReLU())\n",
        "    model.add(layers.Dropout(0.3))\n",
        "    \n",
        "    model.add(layers.Flatten())\n",
        "    model.add(layers.Dense(1))\n",
        "    \n",
        "    return model"
      ]
    },
    {
      "cell_type": "code",
      "execution_count": null,
      "metadata": {
        "colab": {
          "base_uri": "https://localhost:8080/"
        },
        "id": "NlvvnQCGX68N",
        "outputId": "b89e5739-49a0-438f-8c0c-653d7eea8981"
      },
      "outputs": [
        {
          "output_type": "stream",
          "name": "stdout",
          "text": [
            "Model: \"sequential_47\"\n",
            "_________________________________________________________________\n",
            " Layer (type)                Output Shape              Param #   \n",
            "=================================================================\n",
            " conv2d_46 (Conv2D)          (None, 14, 14, 64)        1664      \n",
            "                                                                 \n",
            " leaky_re_lu_118 (LeakyReLU)  (None, 14, 14, 64)       0         \n",
            "                                                                 \n",
            " dropout_46 (Dropout)        (None, 14, 14, 64)        0         \n",
            "                                                                 \n",
            " conv2d_47 (Conv2D)          (None, 7, 7, 128)         204928    \n",
            "                                                                 \n",
            " leaky_re_lu_119 (LeakyReLU)  (None, 7, 7, 128)        0         \n",
            "                                                                 \n",
            " dropout_47 (Dropout)        (None, 7, 7, 128)         0         \n",
            "                                                                 \n",
            " flatten_23 (Flatten)        (None, 6272)              0         \n",
            "                                                                 \n",
            " dense_47 (Dense)            (None, 1)                 6273      \n",
            "                                                                 \n",
            "=================================================================\n",
            "Total params: 212,865\n",
            "Trainable params: 212,865\n",
            "Non-trainable params: 0\n",
            "_________________________________________________________________\n"
          ]
        }
      ],
      "source": [
        "discriminator = make_discriminator_model()\n",
        "discriminator.summary()"
      ]
    },
    {
      "cell_type": "code",
      "execution_count": null,
      "metadata": {
        "colab": {
          "base_uri": "https://localhost:8080/"
        },
        "id": "kr4y5BfsX6-k",
        "outputId": "536dc853-deb1-4b6d-f45f-8cbb36e5247d"
      },
      "outputs": [
        {
          "output_type": "stream",
          "name": "stdout",
          "text": [
            "tf.Tensor([[-0.00346608]], shape=(1, 1), dtype=float32)\n"
          ]
        }
      ],
      "source": [
        "decision = discriminator(generated_image)\n",
        "print(decision)\n"
      ]
    },
    {
      "cell_type": "code",
      "execution_count": null,
      "metadata": {
        "id": "-4AwzbfjYOrw"
      },
      "outputs": [],
      "source": [
        "cross_entropy = tf.keras.losses.BinaryCrossentropy(from_logits = True)#二元交叉熵"
      ]
    },
    {
      "cell_type": "code",
      "execution_count": null,
      "metadata": {
        "id": "D6E3hpwnYOul"
      },
      "outputs": [],
      "source": [
        "def discriminator_loss(real_output,fake_output):\n",
        "    real_loss = cross_entropy(tf.ones_like(real_output),real_output)\n",
        "    fake_loss = cross_entropy(tf.zeros_like(fake_output),fake_output)\n",
        "    total_loss = real_loss+fake_loss\n",
        "    print(total_loss)\n",
        "    return total_loss"
      ]
    },
    {
      "cell_type": "code",
      "execution_count": null,
      "metadata": {
        "id": "K8d8l16TYOxp"
      },
      "outputs": [],
      "source": [
        "def generator_loss(fake_output):\n",
        "    return cross_entropy(tf.ones_like(fake_output),fake_output)"
      ]
    },
    {
      "cell_type": "code",
      "execution_count": null,
      "metadata": {
        "id": "sxy1KzJBYO0R"
      },
      "outputs": [],
      "source": [
        "generator_optimizer = tf.keras.optimizers.Adam(1e-4)\n",
        "discriminator_optimizer = tf.keras.optimizers.Adam(1e-4)#定义优化器"
      ]
    },
    {
      "cell_type": "code",
      "execution_count": null,
      "metadata": {
        "id": "gd631JBRYO3I"
      },
      "outputs": [],
      "source": [
        "checkpoint_dir = './training_checkpoints'\n",
        "checkpoint_prefix = os.path.join(checkpoint_dir,\"ckpt\")\n",
        "checkpoint = tf.train.Checkpoint(generator_optimizer = generator_optimizer,discriminator_optimizer = discriminator_optimizer,generator = generator,discriminator = discriminator)"
      ]
    },
    {
      "cell_type": "code",
      "execution_count": null,
      "metadata": {
        "id": "Dgyj_eI_YO5t"
      },
      "outputs": [],
      "source": [
        "epochs = 100\n",
        "noise_dim = 100\n",
        "num_examples_to_generate = 16\n",
        "\n",
        "gen_loss_eva = []\n",
        "disc_loss_eva = []\n",
        "gen_loss_all = []\n",
        "disc_loss_all = []"
      ]
    },
    {
      "cell_type": "code",
      "execution_count": null,
      "metadata": {
        "id": "Nuil5dFGYO70"
      },
      "outputs": [],
      "source": [
        "#产生随机种子作为输入，产生矩阵，可比性\n",
        "seed = tf.random.normal([num_examples_to_generate,noise_dim])"
      ]
    },
    {
      "cell_type": "code",
      "execution_count": null,
      "metadata": {
        "id": "x5YrjxiiYXdH"
      },
      "outputs": [],
      "source": [
        "#@tf.function#以静态图模式进行编译，方便迁移。\n",
        "def train_step(images):#针对一组样本做一次优化\n",
        "    \n",
        "\n",
        "    noise = tf.random.normal([batch_size,noise_dim])#输入噪音\n",
        "    \n",
        "    with tf.GradientTape() as gen_tape,tf.GradientTape() as disc_tape:\n",
        "        generated_images = generator(noise,training = True)#根据噪音产生图片\n",
        "        \n",
        "        real_output = discriminator(images,training = True)\n",
        "        fake_output = discriminator(generated_images,training = True)\n",
        "        \n",
        "        gen_loss = generator_loss(fake_output)\n",
        "        disc_loss = discriminator_loss(real_output,fake_output)\n",
        "        \n",
        "        \n",
        "        gen_loss_all.append(gen_loss.numpy())\n",
        "        disc_loss_all.append(disc_loss.numpy())\n",
        "       \n",
        "    gradients_of_generator = gen_tape.gradient(gen_loss,generator.trainable_variables)\n",
        "    gradients_of_discriminator = disc_tape.gradient(disc_loss,discriminator.trainable_variables)\n",
        "    \n",
        "    generator_optimizer.apply_gradients(zip(gradients_of_generator,generator.trainable_variables))\n",
        "    discriminator_optimizer.apply_gradients(zip(gradients_of_discriminator,discriminator.trainable_variables))"
      ]
    },
    {
      "cell_type": "code",
      "execution_count": null,
      "metadata": {
        "id": "T_OcHKQvYXgC"
      },
      "outputs": [],
      "source": [
        "def generate_and_save_images(model,epoch,test_input):#将生成的图片可视化\n",
        "    predictions = model(test_input,training = False)\n",
        "    \n",
        "    fig = plt.figure(figsize = (4,4))\n",
        "    \n",
        "    for i in range(predictions.shape[0]):\n",
        "        plt.subplot(4,4,i+1)\n",
        "        plt.imshow(predictions[i,:,:,0]*127.5+127.5,cmap = 'gray')\n",
        "        plt.axis('off')\n",
        "        \n",
        "    plt.savefig('image_at_epoch_{:04d}.png'.format(epoch))\n",
        "    plt.show()"
      ]
    },
    {
      "cell_type": "code",
      "execution_count": null,
      "metadata": {
        "id": "OFhzg9suYXie"
      },
      "outputs": [],
      "source": [
        "def train(dataset,epoch):\n",
        "    for epoch in range(epochs):\n",
        "        start = time.time()\n",
        "        \n",
        "        for image_batch in dataset:#将图片进行分批训练\n",
        "            train_step(image_batch)\n",
        "        gen_loss_eva.append(sum(gen_loss_all)/len(gen_loss_all))\n",
        "        print(len(gen_loss_all))\n",
        "        disc_loss_eva.append(sum(disc_loss_all)/len(disc_loss_all))\n",
        "        display.clear_output(wait = True)\n",
        "        generate_and_save_images(generator,epoch+1,seed)\n",
        "        \n",
        "        if(epoch+1) % 5 == 0:\n",
        "            checkpoint.save(file_prefix = checkpoint_prefix)\n",
        "            \n",
        "        print('Time for epoch{} is {} sec'.format(epoch+1,time.time()-start))"
      ]
    },
    {
      "cell_type": "code",
      "execution_count": null,
      "metadata": {
        "colab": {
          "base_uri": "https://localhost:8080/",
          "height": 301
        },
        "id": "SlrCOPmnYXlB",
        "outputId": "baa9acf2-45ed-49bc-a181-1ce43787b9e7"
      },
      "outputs": [
        {
          "output_type": "display_data",
          "data": {
            "text/plain": [
              "<Figure size 288x288 with 16 Axes>"
            ],
            "image/png": "[encoded data removed]"
          },
          "metadata": {
            "needs_background": "light"
          }
        },
        {
          "output_type": "stream",
          "name": "stdout",
          "text": [
            "Time for epoch100 is 25.153259754180908 sec\n",
            "CPU times: user 23min 21s, sys: 38 s, total: 23min 59s\n",
            "Wall time: 42min 16s\n"
          ]
        }
      ],
      "source": [
        "%%time\n",
        "train(train_dataset,epochs)"
      ]
    },
    {
      "cell_type": "code",
      "execution_count": null,
      "metadata": {
        "colab": {
          "base_uri": "https://localhost:8080/"
        },
        "id": "dPl7V2_AYXoW",
        "outputId": "b26ef9bc-7265-47f7-a8da-1105b4aaca93"
      },
      "outputs": [
        {
          "output_type": "execute_result",
          "data": {
            "text/plain": [
              "<tensorflow.python.training.tracking.util.CheckpointLoadStatus at 0x7f6a52555f10>"
            ]
          },
          "metadata": {},
          "execution_count": 666
        }
      ],
      "source": [
        "checkpoint.restore(tf.train.latest_checkpoint(checkpoint_dir))"
      ]
    },
    {
      "cell_type": "code",
      "source": [
        "\n",
        "disc_loss_eva\n",
        "\n"
      ],
      "metadata": {
        "colab": {
          "base_uri": "https://localhost:8080/"
        },
        "id": "FsZXS_OLlmfp",
        "outputId": "4348e4ea-e17a-413b-ecbb-2a76a532dc21"
      },
      "execution_count": null,
      "outputs": [
        {
          "output_type": "execute_result",
          "data": {
            "text/plain": [
              "[1.2029703409113783,\n",
              " 1.2667778210437044,\n",
              " 1.2289926807931129,\n",
              " 1.2434368960400846,\n",
              " 1.2642815182056832,\n",
              " 1.271463569258967,\n",
              " 1.2763382904435363,\n",
              " 1.2724897940108117,\n",
              " 1.261463867039827,\n",
              " 1.2557605077104366,\n",
              " 1.2437991422656887,\n",
              " 1.2340891436693515,\n",
              " 1.225426230844226,\n",
              " 1.2175370822742717,\n",
              " 1.1994118874969213,\n",
              " 1.1838323396254093,\n",
              " 1.1638864407103708,\n",
              " 1.144664731346969,\n",
              " 1.1283418109675938,\n",
              " 1.1128452196273397,\n",
              " 1.0947302860571138,\n",
              " 1.0817317170953842,\n",
              " 1.066996052213337,\n",
              " 1.049794304413153,\n",
              " 1.0381444479759703,\n",
              " 1.02839449616774,\n",
              " 1.0189420321121097,\n",
              " 1.0092524023539753,\n",
              " 1.002754653903901,\n",
              " 0.9945543043706434,\n",
              " 0.988255383118261,\n",
              " 0.984120055902353,\n",
              " 0.9799482245163945,\n",
              " 0.9751875309718864,\n",
              " 0.9696275039175724,\n",
              " 0.9640243027614646,\n",
              " 0.9594384766468171,\n",
              " 0.9535814131394212,\n",
              " 0.9510128133978534,\n",
              " 0.948738983802973,\n",
              " 0.9451252545571786,\n",
              " 0.9427529281728053,\n",
              " 0.9407012644674092,\n",
              " 0.9390713340856812,\n",
              " 0.937543996549949,\n",
              " 0.9370343927786816,\n",
              " 0.9346074387491856,\n",
              " 0.9327878192727659,\n",
              " 0.9296369462623009,\n",
              " 0.928859329576188,\n",
              " 0.9279305217437164,\n",
              " 0.9278038893193739,\n",
              " 0.9272200325582459,\n",
              " 0.9276806150133728,\n",
              " 0.927828699373415,\n",
              " 0.9271282247338433,\n",
              " 0.9257175466181317,\n",
              " 0.9254361443697138,\n",
              " 0.9258464264753619,\n",
              " 0.9255540643030025,\n",
              " 0.925597535164713,\n",
              " 0.9257708382201506,\n",
              " 0.9260841919759044,\n",
              " 0.9266315280182406,\n",
              " 0.925750047600601,\n",
              " 0.9245701977835402,\n",
              " 0.9237112124312981,\n",
              " 0.9229869280891663,\n",
              " 0.9232163357084047,\n",
              " 0.9234130457125174,\n",
              " 0.9234800719289605,\n",
              " 0.9236376390195766,\n",
              " 0.9242268571645864,\n",
              " 0.924924077260693,\n",
              " 0.9258962852819591,\n",
              " 0.9269162566354133,\n",
              " 0.9274737006872192,\n",
              " 0.9280770326776057,\n",
              " 0.9287401484200616,\n",
              " 0.9296925450401737,\n",
              " 0.9306668766392853,\n",
              " 0.9318458107062801,\n",
              " 0.9330667335096001,\n",
              " 0.9339364526708438,\n",
              " 0.9350687936265418,\n",
              " 0.9365005023950754,\n",
              " 0.9377998925022112,\n",
              " 0.9389393336811541,\n",
              " 0.9395719028947002,\n",
              " 0.9399991097841984,\n",
              " 0.9403700624792716,\n",
              " 0.9408532233521081,\n",
              " 0.941345181956877,\n",
              " 0.9422885569216386,\n",
              " 0.9433195407887188,\n",
              " 0.9446024584920799,\n",
              " 0.945684624613835,\n",
              " 0.9468966760831556,\n",
              " 0.9479815863484391,\n",
              " 0.9491812405193105]"
            ]
          },
          "metadata": {},
          "execution_count": 667
        }
      ]
    },
    {
      "cell_type": "code",
      "source": [
        "plt.xlabel(\"epoch\")\n",
        "plt.ylabel(\"loss\")\n",
        "plt.plot(gen_loss_eva,'blue',label = \"gen_loss\")\n",
        "plt.plot(disc_loss_eva,'red',label = \"disc_loss\")\n",
        "plt.legend(loc = 1)"
      ],
      "metadata": {
        "colab": {
          "base_uri": "https://localhost:8080/",
          "height": 297
        },
        "id": "BNbc4iJtciwv",
        "outputId": "d6cea7c5-34ec-4753-e879-f9676a6d4bdb"
      },
      "execution_count": null,
      "outputs": [
        {
          "output_type": "execute_result",
          "data": {
            "text/plain": [
              "<matplotlib.legend.Legend at 0x7f69ef7b5dd0>"
            ]
          },
          "metadata": {},
          "execution_count": 668
        },
        {
          "output_type": "display_data",
          "data": {
            "text/plain": [
              "<Figure size 432x288 with 1 Axes>"
            ],
            "image/png": "[encoded data removed]"
          },
          "metadata": {
            "needs_background": "light"
          }
        }
      ]
    },
    {
      "cell_type": "code",
      "execution_count": null,
      "metadata": {
        "id": "NwgxyvfbYXqs"
      },
      "outputs": [],
      "source": [
        "def display_image(epoch_no):\n",
        "    return PIL.Image.open('image_at_epoch_{:04d}.png'.format(epoch_no))"
      ]
    },
    {
      "cell_type": "code",
      "execution_count": null,
      "metadata": {
        "colab": {
          "base_uri": "https://localhost:8080/",
          "height": 305
        },
        "id": "6-uA2-aMYXtU",
        "outputId": "45c7695c-633a-4e0f-d655-62fc66b9a350"
      },
      "outputs": [
        {
          "output_type": "execute_result",
          "data": {
            "text/plain": [
              "<PIL.PngImagePlugin.PngImageFile image mode=RGBA size=288x288 at 0x7F69EFFDD490>"
            ],
            "image/png": "[encoded data removed]"
          },
          "metadata": {},
          "execution_count": 670
        }
      ],
      "source": [
        "display_image(epochs)"
      ]
    },
    {
      "cell_type": "code",
      "execution_count": null,
      "metadata": {
        "id": "HOpzMpIxYXv6"
      },
      "outputs": [],
      "source": [
        "import imageio\n",
        "import glob\n",
        "anim_file = 'dcgan.gif'\n",
        "\n",
        "with imageio.get_writer(anim_file,mode = 'I') as writer:\n",
        "    filenames = glob.glob('image*.png')\n",
        "    filenames = sorted(filenames)\n",
        "    last = -1\n",
        "    for i,filename in enumerate(filenames):\n",
        "        frame = 2*(i**0.5)\n",
        "        if round(frame) > round(last):\n",
        "            last = frame\n",
        "        else:\n",
        "            continue\n",
        "        image = imageio.imread(filename)\n",
        "        writer.append_data(image)\n",
        "    image = imageio.imread(filename)\n",
        "    writer.append_data(image)\n"
      ]
    }
  ],
  "metadata": {
    "accelerator": "GPU",
    "colab": {
      "collapsed_sections": [],
      "name": "GAN.ipynb",
      "provenance": [],
      "authorship_tag": "ABX9TyN2CGBYt9Maop35U7/HvvWC",
      "include_colab_link": true
    },
    "kernelspec": {
      "display_name": "Python 3",
      "name": "python3"
    },
    "language_info": {
      "name": "python"
    }
  },
  "nbformat": 4,
  "nbformat_minor": 0
}